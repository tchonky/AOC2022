{
 "cells": [
  {
   "cell_type": "code",
   "execution_count": 6,
   "id": "c25e47e6",
   "metadata": {},
   "outputs": [],
   "source": [
    "import math"
   ]
  },
  {
   "cell_type": "markdown",
   "id": "a969b5e5",
   "metadata": {},
   "source": [
    "# Part"
   ]
  },
  {
   "cell_type": "markdown",
   "id": "b97407e1",
   "metadata": {},
   "source": [
    "## input\n",
    "\n",
    "Monkey 0:\n",
    "  Starting items: 72, 97\n",
    "  Operation: new = old * 13\n",
    "  Test: divisible by 19\n",
    "    If true: throw to monkey 5\n",
    "    If false: throw to monkey 6\n",
    "\n",
    "Monkey 1:\n",
    "  Starting items: 55, 70, 90, 74, 95\n",
    "  Operation: new = old * old\n",
    "  Test: divisible by 7\n",
    "    If true: throw to monkey 5\n",
    "    If false: throw to monkey 0\n",
    "\n",
    "Monkey 2:\n",
    "  Starting items: 74, 97, 66, 57\n",
    "  Operation: new = old + 6\n",
    "  Test: divisible by 17\n",
    "    If true: throw to monkey 1\n",
    "    If false: throw to monkey 0\n",
    "\n",
    "Monkey 3:\n",
    "  Starting items: 86, 54, 53\n",
    "  Operation: new = old + 2\n",
    "  Test: divisible by 13\n",
    "    If true: throw to monkey 1\n",
    "    If false: throw to monkey 2\n",
    "\n",
    "Monkey 4:\n",
    "  Starting items: 50, 65, 78, 50, 62, 99\n",
    "  Operation: new = old + 3\n",
    "  Test: divisible by 11\n",
    "    If true: throw to monkey 3\n",
    "    If false: throw to monkey 7\n",
    "\n",
    "Monkey 5:\n",
    "  Starting items: 90\n",
    "  Operation: new = old + 4\n",
    "  Test: divisible by 2\n",
    "    If true: throw to monkey 4\n",
    "    If false: throw to monkey 6\n",
    "\n",
    "Monkey 6:\n",
    "  Starting items: 88, 92, 63, 94, 96, 82, 53, 53\n",
    "  Operation: new = old + 8\n",
    "  Test: divisible by 5\n",
    "    If true: throw to monkey 4\n",
    "    If false: throw to monkey 7\n",
    "\n",
    "Monkey 7:\n",
    "  Starting items: 70, 60, 71, 69, 77, 70, 98\n",
    "  Operation: new = old * 7\n",
    "  Test: divisible by 3\n",
    "    If true: throw to monkey 2\n",
    "    If false: throw to monkey 3"
   ]
  },
  {
   "cell_type": "code",
   "execution_count": 2,
   "id": "552afa1a",
   "metadata": {},
   "outputs": [],
   "source": [
    "monkey = [# Monkey 0\n",
    "    {'start':[72, 97],\n",
    "    'insp':0,\n",
    "    }, # Monkey 1\n",
    "    {'start':[55, 70, 90, 74, 95],\n",
    "    'insp':0,\n",
    "    }, # Monkey 2\n",
    "    {'start':[74, 97, 66, 57],\n",
    "    'insp':0,\n",
    "    }, # Monkey 3\n",
    "    {'start':[86, 54, 53],\n",
    "    'insp':0,\n",
    "    }, # Monkey 4\n",
    "    {'start':[50, 65, 78, 50, 62, 99],\n",
    "    'insp':0,\n",
    "    }, # Monkey 5\n",
    "    {'start':[90],\n",
    "    'insp':0,\n",
    "    }, # Monkey 6\n",
    "    {'start':[88, 92, 63, 94, 96, 82, 53, 53],\n",
    "    'insp':0,\n",
    "    }, # Monkey 7\n",
    "    {'start':[70, 60, 71, 69, 77, 70, 98],\n",
    "    'insp':0,\n",
    "    },\n",
    "]"
   ]
  },
  {
   "cell_type": "code",
   "execution_count": 3,
   "id": "1cde844f",
   "metadata": {},
   "outputs": [],
   "source": [
    "def monkeyturn(d,dic):\n",
    "    itens = dic[d]['start']\n",
    "    dic[d]['insp'] += len(itens)\n",
    "    for iten in itens:\n",
    "        match d:\n",
    "            case 0:\n",
    "                iten *= 13\n",
    "                iten /= 3\n",
    "                iten = math.floor(iten)\n",
    "                if not iten % 19:\n",
    "                    dic[5]['start'].append(iten)\n",
    "                else:\n",
    "                    dic[6]['start'].append(iten)\n",
    "            case 1:\n",
    "                iten *= iten\n",
    "                iten /= 3\n",
    "                iten = math.floor(iten)\n",
    "                if not iten % 7:\n",
    "                    dic[5]['start'].append(iten)\n",
    "                else:\n",
    "                    dic[0]['start'].append(iten)\n",
    "            case 2:\n",
    "                iten += 6\n",
    "                iten /= 3\n",
    "                iten = math.floor(iten)\n",
    "                if not iten % 17:\n",
    "                    dic[1]['start'].append(iten)\n",
    "                else:\n",
    "                    dic[0]['start'].append(iten)\n",
    "            case 3:\n",
    "                iten += 2\n",
    "                iten /= 3\n",
    "                iten = math.floor(iten)\n",
    "                if not iten % 13:\n",
    "                    dic[1]['start'].append(iten)\n",
    "                else:\n",
    "                    dic[2]['start'].append(iten)\n",
    "            case 4:\n",
    "                iten += 3\n",
    "                iten /= 3\n",
    "                iten = math.floor(iten)\n",
    "                if not iten % 11:\n",
    "                    dic[3]['start'].append(iten)\n",
    "                else:\n",
    "                    dic[7]['start'].append(iten)\n",
    "            case 5:\n",
    "                iten += 4\n",
    "                iten /= 3\n",
    "                iten = math.floor(iten)\n",
    "                if not iten % 2:\n",
    "                    dic[4]['start'].append(iten)\n",
    "                else:\n",
    "                    dic[6]['start'].append(iten)\n",
    "            case 6:\n",
    "                iten += 8\n",
    "                iten /= 3\n",
    "                iten = math.floor(iten)\n",
    "                if not iten % 5:\n",
    "                    dic[4]['start'].append(iten)\n",
    "                else:\n",
    "                    dic[7]['start'].append(iten)\n",
    "            case 7:\n",
    "                iten *= 7\n",
    "                iten /= 3\n",
    "                iten = math.floor(iten)\n",
    "                if not iten % 3:\n",
    "                    dic[2]['start'].append(iten)\n",
    "                else:\n",
    "                    dic[3]['start'].append(iten)\n",
    "                    \n",
    "    dic[d]['start'] = []\n",
    "    return dic"
   ]
  },
  {
   "cell_type": "code",
   "execution_count": 4,
   "id": "4dfcb82c",
   "metadata": {},
   "outputs": [],
   "source": [
    "for i in range(20):\n",
    "    for m in range(8):\n",
    "        monkey = monkeyturn(m,monkey)"
   ]
  },
  {
   "cell_type": "code",
   "execution_count": 5,
   "id": "fbad5bdd",
   "metadata": {},
   "outputs": [
    {
     "name": "stdout",
     "output_type": "stream",
     "text": [
      "monkey 0 inspected 225 times\n",
      "monkey 1 inspected 16 times\n",
      "monkey 2 inspected 236 times\n",
      "monkey 3 inspected 158 times\n",
      "monkey 4 inspected 69 times\n",
      "monkey 5 inspected 12 times\n",
      "monkey 6 inspected 232 times\n",
      "monkey 7 inspected 246 times\n"
     ]
    }
   ],
   "source": [
    "for i in range(8):\n",
    "    print(f\"monkey {i} inspected {monkey[i]['insp']} times\")"
   ]
  },
  {
   "cell_type": "code",
   "execution_count": 6,
   "id": "467b5c6f",
   "metadata": {},
   "outputs": [
    {
     "data": {
      "text/plain": [
       "58056"
      ]
     },
     "execution_count": 6,
     "metadata": {},
     "output_type": "execute_result"
    }
   ],
   "source": [
    "246*236"
   ]
  },
  {
   "cell_type": "markdown",
   "id": "d1bf1e07",
   "metadata": {},
   "source": [
    "# Part"
   ]
  },
  {
   "cell_type": "code",
   "execution_count": 2,
   "id": "1906704a",
   "metadata": {},
   "outputs": [],
   "source": [
    "def decompose(num):\n",
    "    l = []\n",
    "    primes = [2,3,5,7,11,13,17,19]\n",
    "    for p in primes:\n",
    "        while not num%p:\n",
    "            l.append(p)\n",
    "            num /= p\n",
    "    l = list( dict.fromkeys(l))\n",
    "    return math.prod(l)            "
   ]
  },
  {
   "cell_type": "code",
   "execution_count": 3,
   "id": "a90f878d",
   "metadata": {},
   "outputs": [],
   "source": [
    "def monkeyturn2(d,dic):\n",
    "    itens = dic[d]['start']\n",
    "    dic[d]['insp'] += len(itens)\n",
    "    for iten in itens:\n",
    "        match d:\n",
    "            case 0:\n",
    "                iten *= 13\n",
    "                if not iten % 19:\n",
    "                    dic[5]['start'].append(iten)\n",
    "                else:\n",
    "                    dic[6]['start'].append(iten)\n",
    "            case 1:\n",
    "                iten *= iten\n",
    "                iten = decompose(iten)\n",
    "                if not iten % 7:\n",
    "                    iten %= 21651093750\n",
    "                    dic[5]['start'].append(iten)\n",
    "                else:\n",
    "                    iten %= 21651093750\n",
    "                    dic[0]['start'].append(iten)\n",
    "            case 2:\n",
    "                iten += 6\n",
    "                if not iten % 17:\n",
    "                    dic[1]['start'].append(iten)\n",
    "                else:\n",
    "                    dic[0]['start'].append(iten)\n",
    "            case 3:\n",
    "                iten += 2\n",
    "                if not iten % 13:\n",
    "                    dic[1]['start'].append(iten)\n",
    "                else:\n",
    "                    dic[2]['start'].append(iten)\n",
    "            case 4:\n",
    "                iten += 3\n",
    "                if not iten % 11:\n",
    "                    dic[3]['start'].append(iten)\n",
    "                else:\n",
    "                    dic[7]['start'].append(iten)\n",
    "            case 5:\n",
    "                iten += 4\n",
    "                if not iten % 2:\n",
    "                    dic[4]['start'].append(iten)\n",
    "                else:\n",
    "                    dic[6]['start'].append(iten)\n",
    "            case 6:\n",
    "                iten += 8\n",
    "                if not iten % 5:\n",
    "                    dic[4]['start'].append(iten)\n",
    "                else:\n",
    "                    dic[7]['start'].append(iten)\n",
    "            case 7:\n",
    "                iten *= 7\n",
    "                if not iten % 3:\n",
    "                    dic[2]['start'].append(iten)\n",
    "                else:\n",
    "                    dic[3]['start'].append(iten)\n",
    "                    \n",
    "    dic[d]['start'] = []\n",
    "    return dic"
   ]
  },
  {
   "cell_type": "code",
   "execution_count": 4,
   "id": "ae78a098",
   "metadata": {},
   "outputs": [],
   "source": [
    "monkey = [# Monkey 0\n",
    "    {'start':[72, 97],\n",
    "    'insp':0,\n",
    "    }, # Monkey 1\n",
    "    {'start':[55, 70, 90, 74, 95],\n",
    "    'insp':0,\n",
    "    }, # Monkey 2\n",
    "    {'start':[74, 97, 66, 57],\n",
    "    'insp':0,\n",
    "    }, # Monkey 3\n",
    "    {'start':[86, 54, 53],\n",
    "    'insp':0,\n",
    "    }, # Monkey 4\n",
    "    {'start':[50, 65, 78, 50, 62, 99],\n",
    "    'insp':0,\n",
    "    }, # Monkey 5\n",
    "    {'start':[90],\n",
    "    'insp':0,\n",
    "    }, # Monkey 6\n",
    "    {'start':[88, 92, 63, 94, 96, 82, 53, 53],\n",
    "    'insp':0,\n",
    "    }, # Monkey 7\n",
    "    {'start':[70, 60, 71, 69, 77, 70, 98],\n",
    "    'insp':0,\n",
    "    },\n",
    "]"
   ]
  },
  {
   "cell_type": "code",
   "execution_count": 7,
   "id": "f9e7c474",
   "metadata": {},
   "outputs": [],
   "source": [
    "for i in range(100000):\n",
    "    for m in range(8):\n",
    "        monkey = monkeyturn2(m,monkey)"
   ]
  },
  {
   "cell_type": "code",
   "execution_count": 8,
   "id": "fc7c2b14",
   "metadata": {},
   "outputs": [
    {
     "name": "stdout",
     "output_type": "stream",
     "text": [
      "monkey 0 inspected 1209803 times\n",
      "monkey 1 inspected 64657 times\n",
      "monkey 2 inspected 1177514 times\n",
      "monkey 3 inspected 766280 times\n",
      "monkey 4 inspected 381735 times\n",
      "monkey 5 inspected 161343 times\n",
      "monkey 6 inspected 1177556 times\n",
      "monkey 7 inspected 1177532 times\n"
     ]
    }
   ],
   "source": [
    "for i in range(8):\n",
    "    print(f\"monkey {i} inspected {monkey[i]['insp']} times\")"
   ]
  },
  {
   "cell_type": "code",
   "execution_count": 15,
   "id": "4a5f6887",
   "metadata": {},
   "outputs": [],
   "source": [
    "out = [monkey[i]['insp'] for i in range(8)]"
   ]
  },
  {
   "cell_type": "code",
   "execution_count": 16,
   "id": "b33c4979",
   "metadata": {},
   "outputs": [],
   "source": [
    "out.sort()"
   ]
  },
  {
   "cell_type": "code",
   "execution_count": 17,
   "id": "6ab79ba6",
   "metadata": {},
   "outputs": [
    {
     "data": {
      "text/plain": [
       "[64657, 161343, 381735, 766280, 1177514, 1177532, 1177556, 1209803]"
      ]
     },
     "execution_count": 17,
     "metadata": {},
     "output_type": "execute_result"
    }
   ],
   "source": [
    "out"
   ]
  },
  {
   "cell_type": "code",
   "execution_count": 61,
   "id": "5cb40b53",
   "metadata": {},
   "outputs": [
    {
     "data": {
      "text/plain": [
       "1424610781468"
      ]
     },
     "execution_count": 61,
     "metadata": {},
     "output_type": "execute_result"
    }
   ],
   "source": [
    "1209803 *1177556  "
   ]
  }
 ],
 "metadata": {
  "kernelspec": {
   "display_name": "Python 3 (ipykernel)",
   "language": "python",
   "name": "python3"
  },
  "language_info": {
   "codemirror_mode": {
    "name": "ipython",
    "version": 3
   },
   "file_extension": ".py",
   "mimetype": "text/x-python",
   "name": "python",
   "nbconvert_exporter": "python",
   "pygments_lexer": "ipython3",
   "version": "3.10.4"
  },
  "toc": {
   "base_numbering": 1,
   "nav_menu": {},
   "number_sections": true,
   "sideBar": true,
   "skip_h1_title": false,
   "title_cell": "Table of Contents",
   "title_sidebar": "Contents",
   "toc_cell": false,
   "toc_position": {},
   "toc_section_display": true,
   "toc_window_display": false
  }
 },
 "nbformat": 4,
 "nbformat_minor": 5
}
