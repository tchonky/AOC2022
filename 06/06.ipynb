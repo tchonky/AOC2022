{
 "cells": [
  {
   "cell_type": "code",
   "execution_count": 1,
   "id": "ae639567",
   "metadata": {},
   "outputs": [],
   "source": [
    "f = open(\"input.txt\")\n",
    "s = f.read()"
   ]
  },
  {
   "cell_type": "code",
   "execution_count": 2,
   "id": "35d2e3b1",
   "metadata": {},
   "outputs": [],
   "source": [
    "def signal(txt):\n",
    "    if len(txt) > 1:\n",
    "        if txt[0] in txt[1:]:\n",
    "            return False\n",
    "        else:\n",
    "            return signal(txt[1:])\n",
    "    else:\n",
    "        return True"
   ]
  },
  {
   "cell_type": "code",
   "execution_count": 46,
   "id": "6322efba",
   "metadata": {},
   "outputs": [],
   "source": [
    "def process(txt):\n",
    "    for i in range(4,len(txt)+1):\n",
    "        if signal(txt[i-4:i]):\n",
    "            return i"
   ]
  },
  {
   "cell_type": "code",
   "execution_count": 47,
   "id": "e48f26b7",
   "metadata": {},
   "outputs": [
    {
     "data": {
      "text/plain": [
       "1892"
      ]
     },
     "execution_count": 47,
     "metadata": {},
     "output_type": "execute_result"
    }
   ],
   "source": [
    "process(s)"
   ]
  },
  {
   "cell_type": "code",
   "execution_count": 48,
   "id": "d901134a",
   "metadata": {},
   "outputs": [],
   "source": [
    "def process14(txt):\n",
    "    for i in range(14,len(txt)+1):\n",
    "        if signal(txt[i-14:i]):\n",
    "            return i"
   ]
  },
  {
   "cell_type": "code",
   "execution_count": 51,
   "id": "cbe454dc",
   "metadata": {},
   "outputs": [
    {
     "data": {
      "text/plain": [
       "2313"
      ]
     },
     "execution_count": 51,
     "metadata": {},
     "output_type": "execute_result"
    }
   ],
   "source": [
    "process14(s)"
   ]
  },
  {
   "cell_type": "code",
   "execution_count": null,
   "id": "681ea90f",
   "metadata": {},
   "outputs": [],
   "source": []
  }
 ],
 "metadata": {
  "kernelspec": {
   "display_name": "Python 3 (ipykernel)",
   "language": "python",
   "name": "python3"
  },
  "language_info": {
   "codemirror_mode": {
    "name": "ipython",
    "version": 3
   },
   "file_extension": ".py",
   "mimetype": "text/x-python",
   "name": "python",
   "nbconvert_exporter": "python",
   "pygments_lexer": "ipython3",
   "version": "3.10.4"
  },
  "toc": {
   "base_numbering": 1,
   "nav_menu": {},
   "number_sections": true,
   "sideBar": true,
   "skip_h1_title": false,
   "title_cell": "Table of Contents",
   "title_sidebar": "Contents",
   "toc_cell": false,
   "toc_position": {},
   "toc_section_display": true,
   "toc_window_display": false
  }
 },
 "nbformat": 4,
 "nbformat_minor": 5
}
