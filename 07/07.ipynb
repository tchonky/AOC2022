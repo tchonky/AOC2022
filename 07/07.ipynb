{
 "cells": [
  {
   "cell_type": "code",
   "execution_count": 1,
   "id": "49f6eb38",
   "metadata": {},
   "outputs": [],
   "source": [
    "import re"
   ]
  },
  {
   "cell_type": "code",
   "execution_count": 19,
   "id": "3e365bf5",
   "metadata": {},
   "outputs": [],
   "source": [
    "def readcommand(txt,file,dirr=''):\n",
    "    s = re.split(' ',txt.replace('\\n',''))\n",
    "    if s[0] == '$':\n",
    "        #if it's a command\n",
    "        if s[1] == 'ls':\n",
    "            #if it's just listing\n",
    "            return dirr\n",
    "        elif s[1] == 'cd' and s[2] == '..':\n",
    "            #if it's going to parent folder\n",
    "            return dirr.rpartition('/')[0]\n",
    "        else:\n",
    "            #if it's entering a folder\n",
    "            return dirr+'/'+s[2]\n",
    "    elif s[0] == 'dir':\n",
    "        #if it's listing a folder\n",
    "        return dirr\n",
    "    else:\n",
    "        #if it's listing a file\n",
    "        file.write(dirr+'/'+s[1]+'--'+s[0]+'\\n')\n",
    "        return dirr"
   ]
  },
  {
   "cell_type": "code",
   "execution_count": 25,
   "id": "c1aff38e",
   "metadata": {},
   "outputs": [],
   "source": [
    "f = open('input.txt')\n",
    "o = open('output.txt','a')"
   ]
  },
  {
   "cell_type": "code",
   "execution_count": 26,
   "id": "d5244160",
   "metadata": {},
   "outputs": [],
   "source": [
    "r=''\n",
    "for line in f:\n",
    "    r = readcommand(line,o,r)\n",
    "    "
   ]
  },
  {
   "cell_type": "code",
   "execution_count": 27,
   "id": "e0249388",
   "metadata": {},
   "outputs": [],
   "source": [
    "f.close()\n",
    "o.close()"
   ]
  },
  {
   "cell_type": "code",
   "execution_count": null,
   "id": "fc56047c",
   "metadata": {},
   "outputs": [],
   "source": []
  }
 ],
 "metadata": {
  "kernelspec": {
   "display_name": "Python 3 (ipykernel)",
   "language": "python",
   "name": "python3"
  },
  "language_info": {
   "codemirror_mode": {
    "name": "ipython",
    "version": 3
   },
   "file_extension": ".py",
   "mimetype": "text/x-python",
   "name": "python",
   "nbconvert_exporter": "python",
   "pygments_lexer": "ipython3",
   "version": "3.10.4"
  },
  "toc": {
   "base_numbering": 1,
   "nav_menu": {},
   "number_sections": true,
   "sideBar": true,
   "skip_h1_title": false,
   "title_cell": "Table of Contents",
   "title_sidebar": "Contents",
   "toc_cell": false,
   "toc_position": {},
   "toc_section_display": true,
   "toc_window_display": false
  }
 },
 "nbformat": 4,
 "nbformat_minor": 5
}
