{
 "cells": [
  {
   "cell_type": "code",
   "execution_count": 1,
   "id": "3304298c",
   "metadata": {},
   "outputs": [],
   "source": [
    "import re\n",
    "import pandas as pd"
   ]
  },
  {
   "cell_type": "code",
   "execution_count": 2,
   "id": "d98cc0f6",
   "metadata": {},
   "outputs": [],
   "source": [
    "l=pd.Series([[],#Because I'm lazy\n",
    "   ['R','N','P','G'],\n",
    "   ['T','J','B','L','C','S','V','H'],\n",
    "   ['T','D','B','M','N','L'],\n",
    "   ['R','V','P','S','B'],\n",
    "   ['G','C','Q','S','W','M','V','H'],\n",
    "   ['W','Q','S','C','D','B','J'],\n",
    "   ['F','Q','L'],\n",
    "   ['W','M','H','T','D','L','F','V'],\n",
    "   ['L','P','B','V','M','J','F']\n",
    "  ])"
   ]
  },
  {
   "cell_type": "code",
   "execution_count": 3,
   "id": "1515fef7",
   "metadata": {},
   "outputs": [],
   "source": [
    "def mover(comm,crates):\n",
    "    for i in range(comm[0]):\n",
    "        crates[comm[2]].append(crates[comm[1]].pop())\n",
    "    #return crates"
   ]
  },
  {
   "cell_type": "code",
   "execution_count": 4,
   "id": "9cb3d1c6",
   "metadata": {},
   "outputs": [],
   "source": [
    "f = open('input.txt')"
   ]
  },
  {
   "cell_type": "code",
   "execution_count": 5,
   "id": "f4cb7f05",
   "metadata": {},
   "outputs": [],
   "source": [
    "for line in f:\n",
    "    nums = re.findall('\\d{1,2}',line)\n",
    "    commands = [int(x) for x in nums]\n",
    "    mover(commands,l)"
   ]
  },
  {
   "cell_type": "code",
   "execution_count": 6,
   "id": "be3773b1",
   "metadata": {},
   "outputs": [
    {
     "data": {
      "text/plain": [
       "0                                                   []\n",
       "1                                   [D, W, G, N, L, H]\n",
       "2    [P, H, V, J, V, W, G, H, S, B, W, V, T, C, L, ...\n",
       "3                                            [C, Q, T]\n",
       "4                                               [R, M]\n",
       "5                       [M, B, J, J, M, R, L, L, F, T]\n",
       "6                                               [L, B]\n",
       "7                                                  [S]\n",
       "8                                   [S, N, Q, P, S, D]\n",
       "9                                         [Q, D, F, C]\n",
       "dtype: object"
      ]
     },
     "execution_count": 6,
     "metadata": {},
     "output_type": "execute_result"
    }
   ],
   "source": [
    "l"
   ]
  },
  {
   "cell_type": "code",
   "execution_count": 7,
   "id": "86c44505",
   "metadata": {
    "scrolled": true
   },
   "outputs": [
    {
     "name": "stdout",
     "output_type": "stream",
     "text": [
      "HBTMTBSDC"
     ]
    }
   ],
   "source": [
    "for i in range(1,len(l)):\n",
    "    print(l[i][-1],end=\"\")"
   ]
  },
  {
   "cell_type": "code",
   "execution_count": 8,
   "id": "93c01945",
   "metadata": {},
   "outputs": [],
   "source": [
    "f.close()"
   ]
  },
  {
   "cell_type": "code",
   "execution_count": 9,
   "id": "bbe4454f",
   "metadata": {},
   "outputs": [],
   "source": [
    "def mover9001(comm,crates):\n",
    "    for i in range(-comm[0],0):\n",
    "        crates[comm[2]].append(crates[comm[1]].pop(i))\n",
    "    #return crates"
   ]
  },
  {
   "cell_type": "code",
   "execution_count": 10,
   "id": "9a5be882",
   "metadata": {},
   "outputs": [],
   "source": [
    "l=pd.Series([[],#Because I'm lazy\n",
    "   ['R','N','P','G'],\n",
    "   ['T','J','B','L','C','S','V','H'],\n",
    "   ['T','D','B','M','N','L'],\n",
    "   ['R','V','P','S','B'],\n",
    "   ['G','C','Q','S','W','M','V','H'],\n",
    "   ['W','Q','S','C','D','B','J'],\n",
    "   ['F','Q','L'],\n",
    "   ['W','M','H','T','D','L','F','V'],\n",
    "   ['L','P','B','V','M','J','F']\n",
    "  ])"
   ]
  },
  {
   "cell_type": "code",
   "execution_count": 11,
   "id": "3efdf29f",
   "metadata": {},
   "outputs": [],
   "source": [
    "f = open('input.txt')"
   ]
  },
  {
   "cell_type": "code",
   "execution_count": 12,
   "id": "4da2fd4b",
   "metadata": {},
   "outputs": [],
   "source": [
    "for line in f:\n",
    "    nums = re.findall('\\d{1,2}',line)\n",
    "    commands = [int(x) for x in nums]\n",
    "    mover9001(commands,l)"
   ]
  },
  {
   "cell_type": "code",
   "execution_count": 13,
   "id": "59422ace",
   "metadata": {},
   "outputs": [
    {
     "name": "stdout",
     "output_type": "stream",
     "text": [
      "PQTJRSHWS"
     ]
    }
   ],
   "source": [
    "for i in range(1,len(l)):\n",
    "    print(l[i][-1],end=\"\")"
   ]
  },
  {
   "cell_type": "code",
   "execution_count": null,
   "id": "9c43ffb5",
   "metadata": {},
   "outputs": [],
   "source": []
  }
 ],
 "metadata": {
  "kernelspec": {
   "display_name": "Python 3 (ipykernel)",
   "language": "python",
   "name": "python3"
  },
  "language_info": {
   "codemirror_mode": {
    "name": "ipython",
    "version": 3
   },
   "file_extension": ".py",
   "mimetype": "text/x-python",
   "name": "python",
   "nbconvert_exporter": "python",
   "pygments_lexer": "ipython3",
   "version": "3.10.4"
  },
  "toc": {
   "base_numbering": 1,
   "nav_menu": {},
   "number_sections": true,
   "sideBar": true,
   "skip_h1_title": false,
   "title_cell": "Table of Contents",
   "title_sidebar": "Contents",
   "toc_cell": false,
   "toc_position": {},
   "toc_section_display": true,
   "toc_window_display": false
  }
 },
 "nbformat": 4,
 "nbformat_minor": 5
}
